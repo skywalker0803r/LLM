{
  "nbformat": 4,
  "nbformat_minor": 0,
  "metadata": {
    "colab": {
      "provenance": [],
      "machine_shape": "hm",
      "gpuType": "A100",
      "authorship_tag": "ABX9TyPqMifzwYKgfl2bj6zlJwsN",
      "include_colab_link": true
    },
    "kernelspec": {
      "name": "python3",
      "display_name": "Python 3"
    },
    "language_info": {
      "name": "python"
    },
    "accelerator": "GPU"
  },
  "cells": [
    {
      "cell_type": "markdown",
      "metadata": {
        "id": "view-in-github",
        "colab_type": "text"
      },
      "source": [
        "<a href=\"https://colab.research.google.com/github/skywalker0803r/LLM/blob/main/gemma%E5%BE%AE%E8%AA%BF.ipynb\" target=\"_parent\"><img src=\"https://colab.research.google.com/assets/colab-badge.svg\" alt=\"Open In Colab\"/></a>"
      ]
    },
    {
      "cell_type": "code",
      "execution_count": null,
      "metadata": {
        "id": "qa7GaYUovReP"
      },
      "outputs": [],
      "source": [
        "from huggingface_hub import login\n",
        "#login()\n",
        "from transformers import pipeline\n",
        "pipe = pipeline(\"text-generation\", model=\"google/gemma-3-1b-it\")\n",
        "messages = [\n",
        "    {\"role\": \"user\", \"content\": \"你好嗎?\"},\n",
        "]\n",
        "pipe(messages)"
      ]
    },
    {
      "cell_type": "markdown",
      "source": [
        "# SFT"
      ],
      "metadata": {
        "id": "PhN0nKeR0bEd"
      }
    },
    {
      "cell_type": "code",
      "source": [
        "data = [\n",
        "    {\n",
        "        \"messages\": [\n",
        "            {\"role\": \"user\", \"content\": \"SFT微調測試\"},\n",
        "            {\"role\": \"assistant\", \"content\": \"SFT微調測試成功\"}\n",
        "        ]\n",
        "    },\n",
        "    {\n",
        "        \"messages\": [\n",
        "            {\"role\": \"user\", \"content\": \"SFT微調測試\"},\n",
        "            {\"role\": \"assistant\", \"content\": \"SFT微調測試成功\"}\n",
        "        ]\n",
        "    }\n",
        "]*100\n",
        "\n",
        "import json\n",
        "\n",
        "# 儲存成 JSON Lines 格式（每一行是一個 JSON object）\n",
        "with open(\"your_data.json\", \"w\", encoding=\"utf-8\") as f:\n",
        "    for example in data:\n",
        "        json.dump(example, f, ensure_ascii=False)\n",
        "        f.write(\"\\n\")\n"
      ],
      "metadata": {
        "id": "rQoi7DXMx3T8"
      },
      "execution_count": 20,
      "outputs": []
    },
    {
      "cell_type": "markdown",
      "source": [
        "# SFT訓練"
      ],
      "metadata": {
        "id": "sUxfX7Xp4PmZ"
      }
    },
    {
      "cell_type": "code",
      "source": [
        "from trl import SFTTrainer\n",
        "from transformers import AutoTokenizer, AutoModelForCausalLM, TrainingArguments\n",
        "from datasets import load_dataset\n",
        "from peft import LoraConfig, prepare_model_for_kbit_training\n",
        "import torch\n",
        "\n",
        "# 模型設定\n",
        "model_name = \"google/gemma-3-1b-it\"\n",
        "\n",
        "# 載入 tokenizer\n",
        "tokenizer = AutoTokenizer.from_pretrained(model_name)\n",
        "tokenizer.pad_token = tokenizer.eos_token  # 防止 padding 錯誤\n",
        "\n",
        "# 載入模型，使用 4bit 量化\n",
        "model = AutoModelForCausalLM.from_pretrained(\n",
        "    model_name,\n",
        "    device_map=\"auto\",\n",
        ")\n",
        "\n",
        "# 準備 LoRA 微調\n",
        "model = prepare_model_for_kbit_training(model)\n",
        "\n",
        "peft_config = LoraConfig(\n",
        "    r=8,\n",
        "    lora_alpha=16,\n",
        "    lora_dropout=0.05,\n",
        "    bias=\"none\",\n",
        "    task_type=\"CAUSAL_LM\",\n",
        "    target_modules=[\"q_proj\", \"v_proj\"],\n",
        ")\n",
        "\n",
        "# 載入資料集\n",
        "dataset = load_dataset(\"json\", data_files=\"your_data.json\", split=\"train\")\n",
        "\n",
        "# 格式轉換：將 messages 組裝成模型輸入格式\n",
        "def format_example(example):\n",
        "    dialogue = \"\"\n",
        "    for m in example[\"messages\"]:\n",
        "        role = m[\"role\"]\n",
        "        content = m[\"content\"]\n",
        "        dialogue += f\"<|start_of_turn|>{role}\\n{content}<|end_of_turn|>\\n\"\n",
        "    return {\"text\": dialogue}\n",
        "\n",
        "dataset = dataset.map(format_example)\n",
        "\n",
        "# 訓練設定\n",
        "training_args = TrainingArguments(\n",
        "    output_dir=\"./gemma-sft\",\n",
        "    per_device_train_batch_size=2,\n",
        "    gradient_accumulation_steps=4,\n",
        "    num_train_epochs=3,\n",
        "    logging_steps=10,\n",
        "    learning_rate=2e-4,\n",
        "    fp16=True,\n",
        "    save_strategy=\"epoch\",\n",
        "    report_to=\"none\",\n",
        ")\n",
        "\n",
        "# 建立 Trainer\n",
        "trainer = SFTTrainer(\n",
        "    model=model,\n",
        "    args=training_args,\n",
        "    train_dataset=dataset,\n",
        "    peft_config=peft_config,\n",
        ")\n",
        "\n",
        "# 開始訓練\n",
        "trainer.train()\n",
        "\n",
        "# 儲存模型\n",
        "trainer.model.save_pretrained(\"./gemma-sft\")\n",
        "tokenizer.save_pretrained(\"./gemma-sft\")\n"
      ],
      "metadata": {
        "id": "T6nYX5De0j8s"
      },
      "execution_count": null,
      "outputs": []
    },
    {
      "cell_type": "code",
      "source": [
        "from transformers import pipeline\n",
        "\n",
        "pipe = pipeline(\"text-generation\", model=\"./gemma-sft\", tokenizer=\"./gemma-sft\")\n",
        "pipe(\"<|start_of_turn|>user\\nSFT微調測試<|end_of_turn|>\\n<|start_of_turn|>assistant\\n\", max_new_tokens=50)\n"
      ],
      "metadata": {
        "colab": {
          "base_uri": "https://localhost:8080/"
        },
        "id": "I3FOiWGb09kE",
        "outputId": "92b2a989-3bc2-4190-d4bf-aa811ea04637"
      },
      "execution_count": 22,
      "outputs": [
        {
          "output_type": "stream",
          "name": "stderr",
          "text": [
            "Device set to use cuda:0\n"
          ]
        },
        {
          "output_type": "execute_result",
          "data": {
            "text/plain": [
              "[{'generated_text': '<|start_of_turn|>user\\nSFT微調測試<|end_of_turn|>\\n<|start_of_turn|>assistant\\n好的，我明白了。\\n\\n請告訴我，你是否使用 Google 伺服器？\\n\\n<|end_of_text|>\\n<|start_of_audio|>\\n<|start_of_audio>\\n<|start'}]"
            ]
          },
          "metadata": {},
          "execution_count": 22
        }
      ]
    },
    {
      "cell_type": "markdown",
      "source": [
        "# DPO"
      ],
      "metadata": {
        "id": "zEQLHPeZ4SBT"
      }
    },
    {
      "cell_type": "code",
      "source": [
        "import json\n",
        "import random\n",
        "\n",
        "# 讀取原始 SFT 資料\n",
        "with open(\"your_data.json\", \"r\", encoding=\"utf-8\") as f:\n",
        "    sft_data = [json.loads(line) for line in f]\n",
        "\n",
        "# 定義 rejected 回應的預設（也可以用 GPT 產生更好品質的）\n",
        "rejected_candidates = [\n",
        "    \"好的，我明白了。\\n\\n請告訴我，你是否使用 Google 伺服器？\",\n",
        "    \"好的，我明白了。\\n\\n請告訴我，你是否使用 Google 伺服器？\",\n",
        "    \"好的，我明白了。\\n\\n請告訴我，你是否使用 Google 伺服器？\",\n",
        "    \"好的，我明白了。\\n\\n請告訴我，你是否使用 Google 伺服器？\",\n",
        "    \"好的，我明白了。\\n\\n請告訴我，你是否使用 Google 伺服器？\",\n",
        "    \"好的，我明白了。\\n\\n請告訴我，你是否使用 Google 伺服器？\",\n",
        "]\n",
        "\n",
        "# 轉換為 DPO 格式\n",
        "dpo_data = []\n",
        "for item in sft_data:\n",
        "    messages = item[\"messages\"]\n",
        "    prompt = \"\"\n",
        "    response = \"\"\n",
        "\n",
        "    for m in messages:\n",
        "        if m[\"role\"] == \"user\":\n",
        "            prompt = m[\"content\"]\n",
        "        elif m[\"role\"] == \"assistant\":\n",
        "            response = m[\"content\"]\n",
        "\n",
        "    if prompt and response:\n",
        "        dpo_data.append({\n",
        "            \"prompt\": prompt,\n",
        "            \"chosen\": response,\n",
        "            \"rejected\": random.choice(rejected_candidates),\n",
        "        })\n",
        "\n",
        "# 寫入 dpo_data.jsonl\n",
        "with open(\"dpo_data.json\", \"w\", encoding=\"utf-8\") as f:\n",
        "    for item in dpo_data:\n",
        "        json.dump(item, f, ensure_ascii=False)\n",
        "        f.write(\"\\n\")\n",
        "\n",
        "print(\"✅ 已轉換為 DPO 格式，儲存在 dpo_data.json\")\n",
        "\n"
      ],
      "metadata": {
        "id": "HC1chVFu4ZkF"
      },
      "execution_count": null,
      "outputs": []
    },
    {
      "cell_type": "markdown",
      "source": [
        "# DPO訓練"
      ],
      "metadata": {
        "id": "LktciiHL5zSB"
      }
    },
    {
      "cell_type": "code",
      "source": [
        "from transformers import AutoTokenizer, AutoModelForCausalLM, TrainingArguments\n",
        "from trl import DPOTrainer\n",
        "from datasets import load_dataset\n",
        "from peft import LoraConfig, prepare_model_for_kbit_training\n",
        "from trl import DPOConfig\n",
        "\n",
        "# 載入資料集（JSONL 格式）\n",
        "dataset = load_dataset(\"json\", data_files=\"dpo_data.json\", split=\"train\")\n",
        "\n",
        "training_args = DPOConfig(\n",
        "    output_dir=\"./gemma-dpo\",\n",
        "    per_device_train_batch_size=2,\n",
        "    gradient_accumulation_steps=4,\n",
        "    learning_rate=5e-5,\n",
        "    num_train_epochs=3,\n",
        "    logging_steps=10,\n",
        "    save_strategy=\"epoch\",\n",
        "    report_to=\"none\",\n",
        "    fp16=True,\n",
        "    beta=0.1,  # DPO 需要指定 beta\n",
        "    max_prompt_length=512,\n",
        "    max_length=1024,\n",
        "    truncation_mode=\"keep_end\",\n",
        ")\n",
        "\n",
        "# 初始化 DPOTrainer\n",
        "trainer = DPOTrainer(\n",
        "    model=model,\n",
        "    args=training_args,\n",
        "    train_dataset=dataset,\n",
        "    peft_config=peft_config,\n",
        ")\n",
        "\n",
        "# 開始訓練\n",
        "trainer.train()\n",
        "\n",
        "# 儲存模型\n",
        "trainer.model.save_pretrained(\"./gemma-dpo\")\n",
        "tokenizer.save_pretrained(\"./gemma-dpo\")"
      ],
      "metadata": {
        "id": "L_wEvClQ4SIL"
      },
      "execution_count": null,
      "outputs": []
    },
    {
      "cell_type": "code",
      "source": [
        "from transformers import pipeline\n",
        "\n",
        "pipe = pipeline(\"text-generation\", model=\"./gemma-dpo\", tokenizer=\"./gemma-dpo\")\n",
        "pipe(\"SFT微調測試\", max_new_tokens=50)\n"
      ],
      "metadata": {
        "colab": {
          "base_uri": "https://localhost:8080/"
        },
        "id": "eF2qjg6j4shk",
        "outputId": "4714fdde-92d9-4a48-ce1b-08b0c565b229"
      },
      "execution_count": 25,
      "outputs": [
        {
          "output_type": "stream",
          "name": "stderr",
          "text": [
            "Device set to use cuda:0\n"
          ]
        },
        {
          "output_type": "execute_result",
          "data": {
            "text/plain": [
              "[{'generated_text': 'SFT微調測試\\n**目標：** 測試 SFT (Soft Feature Tracking) 的性能，確保其能夠準確地追蹤和理解周邊信息，並在不同光照條件下保持良好的性能。\\n\\n**測試步驟：**\\n\\n1'}]"
            ]
          },
          "metadata": {},
          "execution_count": 25
        }
      ]
    }
  ]
}